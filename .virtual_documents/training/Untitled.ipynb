get_ipython().getoutput("pip install roboflow")


# Get Dataset

from roboflow import Roboflow

rf = Roboflow(api_key="wsdMVbpEuak61XuwiHq0")
project = rf.workspace("roboflow-jvuqo").project("football-players-detection-3zvbc")
version = project.version(1)
dataset = version.download("yolov11")
