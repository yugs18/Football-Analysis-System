from ultralytics import YOLO


model = YOLO('yolo11x')


results = model.predict('Input_Videos/08fd33_4.mp4', save=True)
print(results[0])


for box in results[0].boxes:
    print(box)
